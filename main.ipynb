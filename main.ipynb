{
 "cells": [
  {
   "cell_type": "markdown",
   "id": "d2897716-bee8-480e-950b-fc88eeb15805",
   "metadata": {},
   "source": [
    "Le but de ce projet est de comparer l'efficacité de la voiture, du vélo, et du vélo électrique lors de certains déplacements réguliers (par exemple, pour faire des courses) dans tout le territoire de la France métropolitaine.\n",
    "Il s'agit aussi de comparer ces moyens de transports dans différents environnements : on s'attend à ce que le vélo soit efficace dans les grandes villes, mais à quel point est-il efficace dans les petites villes et les villages ?\n",
    "\n",
    "Afin de comparer l'efficacité de la voiture et des deux types de vélo, nous allons prendre un type de commerce, par exemple les supermarchés.\n",
    "Pour chaque supermarché, nous allons calculer une isochrone selon les modes de transports que nous comparons, et selon des intervalles de temps. Une isochrone permet de déterminer quelle zone géographique est atteignable en un temps donné selon un mode de déplacement.\n",
    "\n",
    "Ensuite, nous allons fusionner tous ces isochrones pour chaque intervalle de temps et chaque mode de transport. Nous allons obtenir des cartes isochrones de la France métropolitaine qui represéntent toutes les zones géographiques étant à 5/10/15/20/25/30 minutes d'au moins un supermarché en vélo/vélo électrique/voiture.\n",
    "\n",
    "Enfin, nous superposons ces cartes isochrones à la carte de la répartition de la population françaises, et à la carte des communes."
   ]
  },
  {
   "cell_type": "markdown",
   "id": "a7b9031a",
   "metadata": {},
   "source": [
    "#### Source des données externes :\n",
    "\n",
    "\n",
    "| Description | Version utilisée |\n",
    "|-------------|--------------|\n",
    "| Contour des communes françaises / Format GeoJSON [[Lien]](https://data-interne.ademe.fr/datasets/geo-contours-communes)| 25/04/2025 | \n",
    "| Contour de la France métropolitaine [[Lien]](https://github.com/gregoiredavid/france-geojson/blob/master/metropole.geojson)| 01/08/2018 | \n",
    "| Répartition de la population de France métropolitaine en 2020 / Format WGS84 / 3 arcsec [[Lien]](https://human-settlement.emergency.copernicus.eu/download.php) | 2023 | \n",
    "| Liste des commerces français d'OpenStreetMap [[Lien]](https://public.opendatasoft.com/explore/dataset/osm-france-shop-craft-office/information/)| 09/07/2025 |\n",
    "|||\n",
    "| OpenRouteService, un service permettant de calculer des itinéraires, et notamment des isochrones [[Lien]](https://github.com/GIScience/openrouteservice)| 06/06/2025 |\n",
    "| Données OpenStreetMap pour la France métropolitaine. Utilisé uniquement par l'instance locale d'OpenRouteService [[Lien]](https://download.geofabrik.de/europe/france.html)| 07/2025|"
   ]
  },
  {
   "cell_type": "code",
   "execution_count": 2,
   "id": "eaa652fd-e2df-4af4-8ef4-fda1b257e68b",
   "metadata": {},
   "outputs": [],
   "source": [
    "import geopandas\n",
    "import numpy as np\n",
    "import pandas as pd\n",
    "import matplotlib.pyplot as plt\n",
    "import duckdb\n",
    "\n",
    "import time\n",
    "import requests\n",
    "\n",
    "import xarray\n",
    "import rioxarray\n",
    "import rasterio\n",
    "\n",
    "from shapely import wkt, Polygon, geometry\n",
    "import shapely.plotting\n",
    "\n",
    "from rasterio.plot import show\n",
    "import matplotlib.colors as colors"
   ]
  },
  {
   "cell_type": "markdown",
   "id": "ad0677af-c2dc-406d-90b0-cc1f327dfe67",
   "metadata": {},
   "source": [
    "#### Création dossiers locaux"
   ]
  },
  {
   "cell_type": "code",
   "execution_count": 4,
   "id": "43f3d5eb-3792-4f58-bbf0-fca4e0c215c4",
   "metadata": {},
   "outputs": [],
   "source": [
    "import os\n",
    "\n",
    "shops = ('bakery', 'supermarket')\n",
    "mobilities = ('driving-car', 'cycling-regular', 'cycling-electric')\n",
    "\n",
    "for shop in shops:\n",
    "    for mobility in mobilities:\n",
    "        os.makedirs(f\"processed/{mobility}/{shop}\", exist_ok = True)\n",
    "\n",
    "os.makedirs(f\"processed/population/communes\", exist_ok = True)\n",
    "os.makedirs(f\"processed/data\", exist_ok = True)"
   ]
  },
  {
   "cell_type": "markdown",
   "id": "c9be7a13-f752-44cb-8db6-0e46594e71cc",
   "metadata": {},
   "source": [
    "# Partie 1 : Préparation des données"
   ]
  },
  {
   "cell_type": "markdown",
   "id": "b7d148d9-d029-41a4-a899-ed55fa5a7af3",
   "metadata": {},
   "source": [
    "Cette partie n'a besoin que d'être lancée une seule fois."
   ]
  },
  {
   "cell_type": "markdown",
   "id": "8c75a0f4-1f71-4c17-90d1-87e47dcfc3ff",
   "metadata": {
    "jp-MarkdownHeadingCollapsed": true
   },
   "source": [
    "#### Création de la carte de la population de la France métropolitaine"
   ]
  },
  {
   "cell_type": "markdown",
   "id": "dc7d7de8-5ec0-4387-8574-b55614724559",
   "metadata": {},
   "source": [
    "Nous regroupons les données du Global Human Settlement (GHS) en une seule image, et nous gardons que les données de population de la France métropolitaine."
   ]
  },
  {
   "cell_type": "code",
   "execution_count": 3,
   "id": "ddbdf191-d03c-42d3-8b45-b4a221a641e5",
   "metadata": {},
   "outputs": [],
   "source": [
    "x1 = xarray.open_dataset(\"data_ext/GHS_POP_E2020_GLOBE_R2023A_4326_3ss_V1_0_R4_C18.tif\")\n",
    "x2 = xarray.open_dataset(\"data_ext/GHS_POP_E2020_GLOBE_R2023A_4326_3ss_V1_0_R4_C19.tif\")\n",
    "x3 = xarray.open_dataset(\"data_ext/GHS_POP_E2020_GLOBE_R2023A_4326_3ss_V1_0_R5_C18.tif\")\n",
    "x4 = xarray.open_dataset(\"data_ext/GHS_POP_E2020_GLOBE_R2023A_4326_3ss_V1_0_R5_C19.tif\")"
   ]
  },
  {
   "cell_type": "code",
   "execution_count": 4,
   "id": "620e85a1-8233-4ab1-9639-8da839b0a399",
   "metadata": {},
   "outputs": [],
   "source": [
    "rx1 = xarray.concat([x1, x2], dim='x')\n",
    "rx2 = xarray.concat([x3, x4], dim='x')\n",
    "rx  = xarray.concat([rx1, rx2], dim='y')"
   ]
  },
  {
   "cell_type": "code",
   "execution_count": 5,
   "id": "697e433c-53a3-41bf-a898-10bf05a9f7a1",
   "metadata": {},
   "outputs": [],
   "source": [
    "coords = {\n",
    "    'band' : rx.band,\n",
    "    'x' : rx.x[5500:],\n",
    "    'y' : rx.y[9500:22000]\n",
    "}\n",
    "pop_fr_large = xarray.Dataset(coords=coords, data_vars=rx.data_vars)"
   ]
  },
  {
   "cell_type": "code",
   "execution_count": 6,
   "id": "8424209f-bfe0-4fb7-9da2-0052cced4d95",
   "metadata": {},
   "outputs": [],
   "source": [
    "pop_fr_large.to_dataarray()[0][0].rio.to_raster(\"processed/population/POP_FRANCE_LARGE.tif\")"
   ]
  },
  {
   "cell_type": "code",
   "execution_count": 7,
   "id": "a3608fe6-2faa-4b2e-92c2-41cb063b9661",
   "metadata": {},
   "outputs": [],
   "source": [
    "france_metro = geopandas.read_file('data_ext/metropole.geojson')"
   ]
  },
  {
   "cell_type": "code",
   "execution_count": 8,
   "id": "eb2c3ee4-633c-48c2-8a99-6c17c615b6fd",
   "metadata": {},
   "outputs": [],
   "source": [
    "with rasterio.open(\"processed/population/POP_FRANCE_LARGE.tif\") as src:\n",
    "    out_image, out_transform = rasterio.mask.mask(src, france_metro[\"geometry\"], crop=True)\n",
    "    out_meta = src.meta\n",
    "\n",
    "out_meta.update({\"driver\": \"GTiff\",\n",
    "                 \"height\": out_image.shape[1],\n",
    "                 \"width\": out_image.shape[2],\n",
    "                 \"transform\": out_transform})\n",
    "\n",
    "with rasterio.open(\"processed/population/POP_FRANCE_METRO.tif\", \"w\", **out_meta) as dest:\n",
    "    dest.write(out_image)"
   ]
  },
  {
   "cell_type": "markdown",
   "id": "a1291b2a-7038-4857-adc7-65674685c223",
   "metadata": {
    "jp-MarkdownHeadingCollapsed": true
   },
   "source": [
    "#### Création de la table avec les populations pour chaque commune"
   ]
  },
  {
   "cell_type": "code",
   "execution_count": 53,
   "id": "72502a48-2b4e-4315-b60a-0f669dbe6570",
   "metadata": {},
   "outputs": [],
   "source": [
    "df = geopandas.read_file(\"data_ext/GEO_Contours_Communes_2025.geojson\")\n",
    "\n",
    "# Enlever les territoires hors métropole\n",
    "df = df[~df[\"REGION_COD\"].isin([\"00\", \"01\", \"02\", \"03\", \"04\", \"06\"])]\n",
    "# Enlever les arrondissements de Paris, Lyon, Marseille (les villes entières sont déjà présentes)\n",
    "df = df[~df[\"DCOE_L_LIB\"].str.contains(\"Arrondissement\")]"
   ]
  },
  {
   "cell_type": "code",
   "execution_count": 54,
   "id": "1095d5d2-eada-4740-9542-a2a2013d2537",
   "metadata": {},
   "outputs": [],
   "source": [
    "for i in df.index:\n",
    "    mask = df.loc[i, \"geometry\"]\n",
    "    if mask:\n",
    "        if mask.geom_type == \"GeometryCollection\":\n",
    "            df.loc[i, \"geometry\"] = mask.geoms[0]"
   ]
  },
  {
   "cell_type": "code",
   "execution_count": 55,
   "id": "403037ba-6a28-4171-a404-4afc6436e77c",
   "metadata": {},
   "outputs": [],
   "source": [
    "df = df.reset_index(drop=True)\n",
    "df_communes = df"
   ]
  },
  {
   "cell_type": "code",
   "execution_count": 57,
   "id": "a63f6913-ef58-4728-ae21-82047f7b3c58",
   "metadata": {},
   "outputs": [],
   "source": [
    "src = rasterio.open(\"processed/population/POP_FRANCE_METRO.tif\")\n",
    "\n",
    "for i in df_communes.index:\n",
    "    mask = df_communes.iloc[i][\"geometry\"]\n",
    "    \n",
    "    if mask: #en cas de None, ex : île des faisans\n",
    "        out_image, out_transform = rasterio.mask.mask(src, [mask], crop=True, all_touched=True)\n",
    "        out_meta = src.meta\n",
    "    \n",
    "        out_meta.update({\"driver\": \"GTiff\",\n",
    "                         \"height\": out_image.shape[1],\n",
    "                         \"width\": out_image.shape[2],\n",
    "                         \"transform\": out_transform})\n",
    "    \n",
    "        with rasterio.open(f\"processed/population/communes/{i}.tif\", \"w\", **out_meta) as dest:\n",
    "            dest.write(out_image)"
   ]
  },
  {
   "cell_type": "code",
   "execution_count": null,
   "id": "b60c0604-690d-46ad-a113-843235f6b929",
   "metadata": {
    "scrolled": true
   },
   "outputs": [],
   "source": [
    "# Prends du temps (quelques heures)\n",
    "\n",
    "for i in df_communes.index:\n",
    "    try:\n",
    "        with rioxarray.open_rasterio(f\"processed/population/communes/{i}.tif\") as rds:\n",
    "            rds.name = \"data\"\n",
    "            pop_grille_commune = rds.to_dataframe().reset_index()\n",
    "\n",
    "            pad = 0.000416\n",
    "            s = 0\n",
    "            #p_list = []\n",
    "            zone_commune = df.loc[i, \"geometry\"]\n",
    "            \n",
    "            for j in pop_grille_commune.index:\n",
    "                if pop_grille_commune.loc[j, \"data\"] > 0:\n",
    "                    pop_location = pop_grille_commune.loc[j]\n",
    "                    x, y = round(pop_location[\"x\"],6), round(pop_location[\"y\"],6)\n",
    "                    p = geometry.Polygon([(x-pad, y+pad), (x+pad, y+pad), (x+pad, y-pad), (x-pad, y-pad)])\n",
    "                    #p_list.append(p)\n",
    "                    s += pop_location[\"data\"]*(p.intersection(zone_commune).area / p.area)\n",
    "\n",
    "            df_communes.loc[i, \"population\"] = s\n",
    "            \n",
    "    except:\n",
    "        print(f\"Pas de fichier pour la commune {i}\")\n",
    "        continue\n",
    "    if i%500 == 0:\n",
    "        print(f\"Step {i}\", end='\\r')"
   ]
  },
  {
   "cell_type": "code",
   "execution_count": null,
   "id": "94e71f31-2f1c-4e56-b57e-e8e283177af0",
   "metadata": {
    "scrolled": true
   },
   "outputs": [],
   "source": [
    "df[\"population\"].sum()"
   ]
  },
  {
   "cell_type": "code",
   "execution_count": null,
   "id": "07ba4d38-6aa2-4d56-8c23-74e3b23814b1",
   "metadata": {},
   "outputs": [],
   "source": [
    "df_communes.to_csv(f\"processed/data/pop_iso_communes.csv\", index=False)"
   ]
  },
  {
   "cell_type": "markdown",
   "id": "27e00ec3-2286-4ca7-8306-8c8765a0459d",
   "metadata": {
    "jp-MarkdownHeadingCollapsed": true
   },
   "source": [
    "# Partie 2 : Obtention des isochrones avec OpenRouteService via Docker"
   ]
  },
  {
   "cell_type": "markdown",
   "id": "07694e96-90b0-44ee-9c78-d2122d17bca3",
   "metadata": {},
   "source": [
    "Dans cette partie, nous utilisons une instance locale d'OpenRouteService via Docker.\n",
    "Nous allons calculer les isochrones pour tous les commerces des catégories qui nous intéressent (supermarchés, boulangeries), \n",
    "pour chaque type de déplacement (voiture, vélo et vélo électrique), et pour des intervalles de temps (de 5 à 30 minutes)."
   ]
  },
  {
   "cell_type": "code",
   "execution_count": 9,
   "id": "7d9e827b-4371-45ce-9f97-c1da2c0cc157",
   "metadata": {},
   "outputs": [],
   "source": [
    "#shop_type = 'supermarket'\n",
    "shop_type = 'bakery'\n",
    "\n",
    "#mobility_type = 'cycling-regular'\n",
    "#mobility_type = 'cycling-electric'\n",
    "mobility_type = 'driving-car'"
   ]
  },
  {
   "cell_type": "markdown",
   "id": "56dd047f-e6fb-4fe2-ae8d-bc7bb67041be",
   "metadata": {},
   "source": [
    "#### Appel à la base de données des commerces d'OpenStreetMap pour récupérer les commerces selon leur type"
   ]
  },
  {
   "cell_type": "code",
   "execution_count": 10,
   "id": "7960c09f-8c63-4d6f-aae6-562fffc0e6bc",
   "metadata": {},
   "outputs": [],
   "source": [
    "# Récupération des données depuis les données d'OpenStreetMap\n",
    "\n",
    "conn = duckdb.connect(database=\"data_ext/osm_shops.db\")\n",
    "db_relation = conn.read_csv(\"data_ext/osm-shop-fr@babel.csv\")\n",
    "\n",
    "df = conn.sql(\n",
    "    f\"\"\"\n",
    "    SELECT type, name, brand, operator, region, departement, commune, code_commune, \"Geo Point\"\n",
    "    FROM db_relation\n",
    "    WHERE type LIKE '{shop_type}'\n",
    "    \"\"\"\n",
    ").df()\n",
    "\n",
    "conn.close()"
   ]
  },
  {
   "cell_type": "code",
   "execution_count": 11,
   "id": "221e8df5-27d1-42e4-aaac-ebb1885d1197",
   "metadata": {},
   "outputs": [],
   "source": [
    "# Création d'une nouvelle colonne permettant d'utiliser la latitude / longitude lorsqu'on appelle l'API d'ORS\n",
    "\n",
    "list_geo_point_float = []\n",
    "for d in df['Geo Point']:\n",
    "    list_geo_point_float.append([float(x) for x in d.split(', ')][::-1])\n",
    "df[\"geo_point_float\"] = list_geo_point_float"
   ]
  },
  {
   "cell_type": "code",
   "execution_count": 12,
   "id": "48aa0253-bc98-4769-a775-e2a7f8a78ed1",
   "metadata": {
    "scrolled": true
   },
   "outputs": [
    {
     "data": {
      "text/html": [
       "<div>\n",
       "<style scoped>\n",
       "    .dataframe tbody tr th:only-of-type {\n",
       "        vertical-align: middle;\n",
       "    }\n",
       "\n",
       "    .dataframe tbody tr th {\n",
       "        vertical-align: top;\n",
       "    }\n",
       "\n",
       "    .dataframe thead th {\n",
       "        text-align: right;\n",
       "    }\n",
       "</style>\n",
       "<table border=\"1\" class=\"dataframe\">\n",
       "  <thead>\n",
       "    <tr style=\"text-align: right;\">\n",
       "      <th></th>\n",
       "      <th>type</th>\n",
       "      <th>name</th>\n",
       "      <th>brand</th>\n",
       "      <th>operator</th>\n",
       "      <th>region</th>\n",
       "      <th>departement</th>\n",
       "      <th>commune</th>\n",
       "      <th>code_commune</th>\n",
       "      <th>Geo Point</th>\n",
       "      <th>geo_point_float</th>\n",
       "    </tr>\n",
       "  </thead>\n",
       "  <tbody>\n",
       "    <tr>\n",
       "      <th>0</th>\n",
       "      <td>bakery</td>\n",
       "      <td>Boulangerie Patisserie Martins</td>\n",
       "      <td>None</td>\n",
       "      <td>None</td>\n",
       "      <td>Auvergne-Rhône-Alpes</td>\n",
       "      <td>Haute-Savoie</td>\n",
       "      <td>Doussard</td>\n",
       "      <td>74104</td>\n",
       "      <td>45.775123500375926, 6.2200735</td>\n",
       "      <td>[6.2200735, 45.775123500375926]</td>\n",
       "    </tr>\n",
       "    <tr>\n",
       "      <th>1</th>\n",
       "      <td>bakery</td>\n",
       "      <td>Grandjean Jean-Marie &amp; Nathalie</td>\n",
       "      <td>None</td>\n",
       "      <td>None</td>\n",
       "      <td>Auvergne-Rhône-Alpes</td>\n",
       "      <td>Haute-Loire</td>\n",
       "      <td>Vorey</td>\n",
       "      <td>43267</td>\n",
       "      <td>45.18623730044939, 3.9092334</td>\n",
       "      <td>[3.9092334, 45.18623730044939]</td>\n",
       "    </tr>\n",
       "    <tr>\n",
       "      <th>2</th>\n",
       "      <td>bakery</td>\n",
       "      <td>Le Fournil du Mitron</td>\n",
       "      <td>None</td>\n",
       "      <td>None</td>\n",
       "      <td>Auvergne-Rhône-Alpes</td>\n",
       "      <td>Haute-Savoie</td>\n",
       "      <td>Les Gets</td>\n",
       "      <td>74134</td>\n",
       "      <td>46.160040200316956, 6.6722228</td>\n",
       "      <td>[6.6722228, 46.160040200316956]</td>\n",
       "    </tr>\n",
       "    <tr>\n",
       "      <th>3</th>\n",
       "      <td>bakery</td>\n",
       "      <td>La Miche Au Vieux Four</td>\n",
       "      <td>None</td>\n",
       "      <td>None</td>\n",
       "      <td>Auvergne-Rhône-Alpes</td>\n",
       "      <td>Rhône</td>\n",
       "      <td>Lyon</td>\n",
       "      <td>69123</td>\n",
       "      <td>45.754738100378816, 4.8470185</td>\n",
       "      <td>[4.8470185, 45.754738100378816]</td>\n",
       "    </tr>\n",
       "    <tr>\n",
       "      <th>4</th>\n",
       "      <td>bakery</td>\n",
       "      <td>None</td>\n",
       "      <td>None</td>\n",
       "      <td>None</td>\n",
       "      <td>Provence-Alpes-Côte d'Azur</td>\n",
       "      <td>Vaucluse</td>\n",
       "      <td>Malaucène</td>\n",
       "      <td>84069</td>\n",
       "      <td>44.17375580052592, 5.1328882</td>\n",
       "      <td>[5.1328882, 44.17375580052592]</td>\n",
       "    </tr>\n",
       "    <tr>\n",
       "      <th>...</th>\n",
       "      <td>...</td>\n",
       "      <td>...</td>\n",
       "      <td>...</td>\n",
       "      <td>...</td>\n",
       "      <td>...</td>\n",
       "      <td>...</td>\n",
       "      <td>...</td>\n",
       "      <td>...</td>\n",
       "      <td>...</td>\n",
       "      <td>...</td>\n",
       "    </tr>\n",
       "    <tr>\n",
       "      <th>29183</th>\n",
       "      <td>bakery</td>\n",
       "      <td>Festival des Pains</td>\n",
       "      <td>None</td>\n",
       "      <td>None</td>\n",
       "      <td>Auvergne-Rhône-Alpes</td>\n",
       "      <td>Allier</td>\n",
       "      <td>Le Veurdre</td>\n",
       "      <td>03309</td>\n",
       "      <td>46.756554680696325, 3.0405306833101458</td>\n",
       "      <td>[3.0405306833101458, 46.756554680696325]</td>\n",
       "    </tr>\n",
       "    <tr>\n",
       "      <th>29184</th>\n",
       "      <td>bakery</td>\n",
       "      <td>Les délices de Thomas</td>\n",
       "      <td>None</td>\n",
       "      <td>None</td>\n",
       "      <td>Grand Est</td>\n",
       "      <td>Ardennes</td>\n",
       "      <td>Villers-Semeuse</td>\n",
       "      <td>08480</td>\n",
       "      <td>49.74235059951193, 4.7414922</td>\n",
       "      <td>[4.7414922, 49.74235059951193]</td>\n",
       "    </tr>\n",
       "    <tr>\n",
       "      <th>29185</th>\n",
       "      <td>bakery</td>\n",
       "      <td>Artisan Boulanger et Patissier</td>\n",
       "      <td>None</td>\n",
       "      <td>None</td>\n",
       "      <td>Centre-Val de Loire</td>\n",
       "      <td>Loiret</td>\n",
       "      <td>Saint-Denis-en-Val</td>\n",
       "      <td>45274</td>\n",
       "      <td>47.877854899966636, 1.9569897</td>\n",
       "      <td>[1.9569897, 47.877854899966636]</td>\n",
       "    </tr>\n",
       "    <tr>\n",
       "      <th>29186</th>\n",
       "      <td>bakery</td>\n",
       "      <td>Maison Vatelier</td>\n",
       "      <td>None</td>\n",
       "      <td>None</td>\n",
       "      <td>Normandie</td>\n",
       "      <td>Seine-Maritime</td>\n",
       "      <td>Quincampoix</td>\n",
       "      <td>76517</td>\n",
       "      <td>49.52272099956426, 1.1868131</td>\n",
       "      <td>[1.1868131, 49.52272099956426]</td>\n",
       "    </tr>\n",
       "    <tr>\n",
       "      <th>29187</th>\n",
       "      <td>bakery</td>\n",
       "      <td>Boulangerie Talbourdet</td>\n",
       "      <td>None</td>\n",
       "      <td>None</td>\n",
       "      <td>Bretagne</td>\n",
       "      <td>Côtes-d'Armor</td>\n",
       "      <td>Saint-Brieuc</td>\n",
       "      <td>22278</td>\n",
       "      <td>48.50315579981539, -2.739625</td>\n",
       "      <td>[-2.739625, 48.50315579981539]</td>\n",
       "    </tr>\n",
       "  </tbody>\n",
       "</table>\n",
       "<p>29188 rows × 10 columns</p>\n",
       "</div>"
      ],
      "text/plain": [
       "         type                             name brand operator  \\\n",
       "0      bakery   Boulangerie Patisserie Martins  None     None   \n",
       "1      bakery  Grandjean Jean-Marie & Nathalie  None     None   \n",
       "2      bakery             Le Fournil du Mitron  None     None   \n",
       "3      bakery           La Miche Au Vieux Four  None     None   \n",
       "4      bakery                             None  None     None   \n",
       "...       ...                              ...   ...      ...   \n",
       "29183  bakery               Festival des Pains  None     None   \n",
       "29184  bakery            Les délices de Thomas  None     None   \n",
       "29185  bakery   Artisan Boulanger et Patissier  None     None   \n",
       "29186  bakery                  Maison Vatelier  None     None   \n",
       "29187  bakery           Boulangerie Talbourdet  None     None   \n",
       "\n",
       "                           region     departement             commune  \\\n",
       "0            Auvergne-Rhône-Alpes    Haute-Savoie            Doussard   \n",
       "1            Auvergne-Rhône-Alpes     Haute-Loire               Vorey   \n",
       "2            Auvergne-Rhône-Alpes    Haute-Savoie            Les Gets   \n",
       "3            Auvergne-Rhône-Alpes           Rhône                Lyon   \n",
       "4      Provence-Alpes-Côte d'Azur        Vaucluse           Malaucène   \n",
       "...                           ...             ...                 ...   \n",
       "29183        Auvergne-Rhône-Alpes          Allier          Le Veurdre   \n",
       "29184                   Grand Est        Ardennes     Villers-Semeuse   \n",
       "29185         Centre-Val de Loire          Loiret  Saint-Denis-en-Val   \n",
       "29186                   Normandie  Seine-Maritime         Quincampoix   \n",
       "29187                    Bretagne   Côtes-d'Armor        Saint-Brieuc   \n",
       "\n",
       "      code_commune                               Geo Point  \\\n",
       "0            74104           45.775123500375926, 6.2200735   \n",
       "1            43267            45.18623730044939, 3.9092334   \n",
       "2            74134           46.160040200316956, 6.6722228   \n",
       "3            69123           45.754738100378816, 4.8470185   \n",
       "4            84069            44.17375580052592, 5.1328882   \n",
       "...            ...                                     ...   \n",
       "29183        03309  46.756554680696325, 3.0405306833101458   \n",
       "29184        08480            49.74235059951193, 4.7414922   \n",
       "29185        45274           47.877854899966636, 1.9569897   \n",
       "29186        76517            49.52272099956426, 1.1868131   \n",
       "29187        22278            48.50315579981539, -2.739625   \n",
       "\n",
       "                                geo_point_float  \n",
       "0               [6.2200735, 45.775123500375926]  \n",
       "1                [3.9092334, 45.18623730044939]  \n",
       "2               [6.6722228, 46.160040200316956]  \n",
       "3               [4.8470185, 45.754738100378816]  \n",
       "4                [5.1328882, 44.17375580052592]  \n",
       "...                                         ...  \n",
       "29183  [3.0405306833101458, 46.756554680696325]  \n",
       "29184            [4.7414922, 49.74235059951193]  \n",
       "29185           [1.9569897, 47.877854899966636]  \n",
       "29186            [1.1868131, 49.52272099956426]  \n",
       "29187            [-2.739625, 48.50315579981539]  \n",
       "\n",
       "[29188 rows x 10 columns]"
      ]
     },
     "execution_count": 12,
     "metadata": {},
     "output_type": "execute_result"
    }
   ],
   "source": [
    "df"
   ]
  },
  {
   "cell_type": "markdown",
   "id": "409112f5-1bda-4570-bf6a-3838ae422cbf",
   "metadata": {},
   "source": [
    "#### Calcul des isochrones, appel de l'API locale d'OpenRouteService"
   ]
  },
  {
   "cell_type": "code",
   "execution_count": 25,
   "id": "d041dd31-9553-47dc-b785-109b13a4d536",
   "metadata": {},
   "outputs": [],
   "source": [
    "def call_local_ors_api(geo_point, time_ranges, mobility_type):\n",
    "\n",
    "    if mobility_type == \"driving-car\":\n",
    "        options = {\"avoid_features\":[\"highways\",\"tollways\",\"ferries\"]}\n",
    "    else:\n",
    "        options = {\"avoid_features\":[\"ferries\"]}\n",
    "    \n",
    "    body = {\n",
    "        \"locations\":[geo_point],\n",
    "        \"range\":time_ranges,\n",
    "        \"location_type\":\"destination\",\n",
    "        \"range_type\":\"time\",\n",
    "        \"options\":options,\n",
    "}\n",
    "    \n",
    "    call = requests.post(f'http://localhost:8080/ors/v2/isochrones/{mobility_type}', json=body)\n",
    "    #print(call.status_code, call.reason)\n",
    "    return call.status_code, call.text\n"
   ]
  },
  {
   "cell_type": "code",
   "execution_count": 17,
   "id": "67eca1cb-c319-4fbf-89ea-20ceec60e88b",
   "metadata": {},
   "outputs": [],
   "source": [
    "# en secondes, ex : 300 = 5 min\n",
    "time_ranges = [300, 600, 900, 1200, 1500, 1800]"
   ]
  },
  {
   "cell_type": "code",
   "execution_count": null,
   "id": "573de2f5-9fe4-4d0c-8ce4-02f43a544d0f",
   "metadata": {
    "scrolled": true
   },
   "outputs": [],
   "source": [
    "# Appel de l'API\n",
    "\n",
    "if True:\n",
    "    liste_areas = []\n",
    "    i = 0\n",
    "    for geo_point in df[\"geo_point_float\"]:\n",
    "\n",
    "        code, result = call_local_ors_api(geo_point, time_ranges, mobility_type)\n",
    "        if code == 200:\n",
    "            liste_areas.append(result)\n",
    "        else:\n",
    "            liste_areas.append({\"Error\":code})\n",
    "        i += 1\n",
    "        print(f\"Step : {i} | Code : {code} | Geo Point : {[geo_point]}\")"
   ]
  },
  {
   "cell_type": "code",
   "execution_count": 34,
   "id": "07886d28-8a28-4efa-b851-b511cd283582",
   "metadata": {},
   "outputs": [],
   "source": [
    "np.savetxt(\n",
    "    f\"processed/{mobility_type}/{shop_type}/raw_iso.csv\",\n",
    "    liste_areas,\n",
    "    delimiter =\", \",\n",
    "    fmt ='%s'\n",
    ")"
   ]
  },
  {
   "cell_type": "code",
   "execution_count": 36,
   "id": "ed5499a4-9c7c-4f09-b6bd-9b8dbb258dd6",
   "metadata": {},
   "outputs": [],
   "source": [
    "with open(f\"processed/{mobility_type}/{shop_type}/raw_iso.csv\", 'r') as f:\n",
    "    data_file = f.readlines()"
   ]
  },
  {
   "cell_type": "code",
   "execution_count": 38,
   "id": "2987b593-229d-4894-971a-d3ead70dcaeb",
   "metadata": {
    "scrolled": true
   },
   "outputs": [
    {
     "name": "stderr",
     "output_type": "stream",
     "text": [
      "Skipping field center: unsupported OGR type: 3\n",
      "Skipping field center: unsupported OGR type: 3\n",
      "Skipping field center: unsupported OGR type: 3\n",
      "Skipping field center: unsupported OGR type: 3\n",
      "Skipping field center: unsupported OGR type: 3\n",
      "Skipping field center: unsupported OGR type: 3\n",
      "Skipping field center: unsupported OGR type: 3\n",
      "Skipping field center: unsupported OGR type: 3\n",
      "Skipping field center: unsupported OGR type: 3\n",
      "Skipping field center: unsupported OGR type: 3\n"
     ]
    },
    {
     "name": "stdout",
     "output_type": "stream",
     "text": [
      "Step : 0"
     ]
    }
   ],
   "source": [
    "gdf_list = []\n",
    "for i, area in enumerate(data_file):\n",
    "    if \"Error\" in area:\n",
    "        continue\n",
    "    gdf_list.append(geopandas.read_file(area, columns=[\"area\", \"value\"])[::-1])\n",
    "    if i%50 == 0:\n",
    "        print(f\"Step : {i}\", end='\\r')\n"
   ]
  },
  {
   "cell_type": "code",
   "execution_count": 39,
   "id": "8460a5b3-60e3-4bee-8cb4-705d5f53b77e",
   "metadata": {},
   "outputs": [],
   "source": [
    "rdf = geopandas.GeoDataFrame(pd.concat(gdf_list, ignore_index=True), crs=gdf_list[0].crs)"
   ]
  },
  {
   "cell_type": "code",
   "execution_count": 40,
   "id": "a6dcc2e8-d943-4ae0-af73-2d7c196973ab",
   "metadata": {},
   "outputs": [],
   "source": [
    "rdf[\"group_index\"] = rdf[\"value\"] / 60\n",
    "rdf = rdf.sort_values(by=['group_index'], ascending=False)"
   ]
  },
  {
   "cell_type": "code",
   "execution_count": 41,
   "id": "5e36a6a1-0b4e-4def-bba7-565c3f64dfb7",
   "metadata": {},
   "outputs": [],
   "source": [
    "rdf.to_csv(f\"processed/{mobility_type}/{shop_type}/raw_iso_geopandas.csv\", index=False)"
   ]
  },
  {
   "cell_type": "markdown",
   "id": "90fe441d-f1b1-4937-9e48-021c0ed620c7",
   "metadata": {},
   "source": [
    "#### Fusion de tous les isochrones par groupe"
   ]
  },
  {
   "cell_type": "code",
   "execution_count": 42,
   "id": "d69e3a3a-4134-4ee9-8f63-4235e2a882ac",
   "metadata": {},
   "outputs": [],
   "source": [
    "df = pd.read_csv(f\"processed/{mobility_type}/{shop_type}/raw_iso_geopandas.csv\")\n",
    "df['geometry'] = df['geometry'].apply(wkt.loads)\n",
    "rdf = geopandas.GeoDataFrame(df, crs='epsg:4326')"
   ]
  },
  {
   "cell_type": "code",
   "execution_count": 43,
   "id": "d0b05bb8-1d33-4998-a25e-3491379a597f",
   "metadata": {},
   "outputs": [],
   "source": [
    "liste_rdf = []\n",
    "\n",
    "for i in range(6):\n",
    "    value = float(1800 - i*300)\n",
    "    rdf_i = geopandas.GeoDataFrame(rdf[rdf[\"value\"] == value])\n",
    "    liste_rdf.append(rdf_i)"
   ]
  },
  {
   "cell_type": "code",
   "execution_count": 44,
   "id": "f4ca0cf8-726c-4db0-a852-fe69dea5274c",
   "metadata": {},
   "outputs": [
    {
     "name": "stdout",
     "output_type": "stream",
     "text": [
      "OK : 1 / 6\n",
      "OK : 2 / 6\n",
      "OK : 3 / 6\n",
      "OK : 4 / 6\n",
      "OK : 5 / 6\n",
      "OK : 6 / 6\n"
     ]
    }
   ],
   "source": [
    "# Prends du temps, surtout pour driving-car\n",
    "\n",
    "for i in range(6):\n",
    "    liste_rdf[i] = liste_rdf[i].dissolve(by='group_index')\n",
    "    print(f\"OK : {i+1} / 6\")"
   ]
  },
  {
   "cell_type": "code",
   "execution_count": 45,
   "id": "42691f4f-8909-4f7c-8af6-1c2284e0ee06",
   "metadata": {},
   "outputs": [],
   "source": [
    "rdf_cleaned = geopandas.GeoDataFrame(pd.concat(liste_rdf))"
   ]
  },
  {
   "cell_type": "code",
   "execution_count": 46,
   "id": "75db00f0-aa85-4dde-a733-c5d7c90e07fb",
   "metadata": {},
   "outputs": [],
   "source": [
    "rdf_cleaned.to_csv(f\"processed/{mobility_type}/{shop_type}/iso_merged.csv\", index=False)"
   ]
  },
  {
   "cell_type": "markdown",
   "id": "884093da-c19d-49ef-ac59-b016360b0092",
   "metadata": {
    "jp-MarkdownHeadingCollapsed": true
   },
   "source": [
    "# Partie 3 : Recoupement des isochrones par la population"
   ]
  },
  {
   "cell_type": "markdown",
   "id": "034105a0-b076-4d02-af16-a1d88ab0c7bc",
   "metadata": {},
   "source": [
    "Dans cette partie, nous utilisons les isochrones que nous avons calculés précedemment pour les recouper avec les données de population.\n",
    "Cela nous permet de savoir combien de personnes habitent à 5, 10, 15, 20, 25 ou 30 minutes d'un type de commerce, pour chaque mode de transport."
   ]
  },
  {
   "cell_type": "markdown",
   "id": "4d10774d-97d1-45e8-af22-b3567e684172",
   "metadata": {
    "jp-MarkdownHeadingCollapsed": true
   },
   "source": [
    "#### Création des fichiers .tif : ne garde que les données de population si elles sont dans le périmètre de chaque isochrone"
   ]
  },
  {
   "cell_type": "code",
   "execution_count": 47,
   "id": "412de978-cbeb-4b5c-905b-c0464e2ed50c",
   "metadata": {},
   "outputs": [],
   "source": [
    "#shop_type = 'supermarket'\n",
    "shop_type = 'bakery'\n",
    "\n",
    "#mobility_type = 'cycling-regular'\n",
    "#mobility_type = 'cycling-electric'\n",
    "mobility_type = 'driving-car'"
   ]
  },
  {
   "cell_type": "code",
   "execution_count": 48,
   "id": "718985da-c6e6-4a74-9f90-0346d0b5c960",
   "metadata": {},
   "outputs": [],
   "source": [
    "df = pd.read_csv(f\"processed/{mobility_type}/{shop_type}/iso_merged.csv\")\n",
    "df['geometry'] = df['geometry'].apply(wkt.loads)\n",
    "rdf_isochrones = geopandas.GeoDataFrame(df, crs='epsg:4326')"
   ]
  },
  {
   "cell_type": "code",
   "execution_count": 49,
   "id": "ea3cf502-71f2-4930-8035-53d58750fc0f",
   "metadata": {},
   "outputs": [],
   "source": [
    "pop_fr = rasterio.open(\"processed/population/POP_FRANCE_METRO.tif\")"
   ]
  },
  {
   "cell_type": "code",
   "execution_count": 50,
   "id": "c799765d-dfbe-4b18-a5af-4cd734eb2e71",
   "metadata": {},
   "outputs": [],
   "source": [
    "def pop_iso_intersection(rdf_isochrones, pop_fr, n, mobility_type):\n",
    "    mask = rdf_isochrones.iloc[n:n+1][\"geometry\"]\n",
    "    out_image, out_transform = rasterio.mask.mask(pop_fr, mask, crop=True)\n",
    "    out_meta = pop_fr.meta\n",
    "\n",
    "    out_meta.update({\"driver\": \"GTiff\",\n",
    "                     \"height\": out_image.shape[1],\n",
    "                     \"width\": out_image.shape[2],\n",
    "                     \"transform\": out_transform},\n",
    "                     #\"crs\": 4326\n",
    "                   )\n",
    "\n",
    "    value = int(rdf_isochrones.iloc[n][\"value\"])\n",
    "    path = f\"processed/{mobility_type}/{shop_type}/POP_ISO_{value}.tif\"\n",
    "    with rasterio.open(path, \"w\", **out_meta) as dest:\n",
    "        dest.write(out_image)\n"
   ]
  },
  {
   "cell_type": "code",
   "execution_count": 51,
   "id": "e4fa48e6-fbcf-4b9c-bde6-aecee3b3e050",
   "metadata": {},
   "outputs": [
    {
     "name": "stdout",
     "output_type": "stream",
     "text": [
      "1 / 6\n",
      "2 / 6\n",
      "3 / 6\n",
      "4 / 6\n",
      "5 / 6\n",
      "6 / 6\n"
     ]
    }
   ],
   "source": [
    "for n in range(6):\n",
    "    pop_iso_intersection(rdf_isochrones, pop_fr, n, mobility_type)\n",
    "    print(f\"{n+1} / 6\")"
   ]
  },
  {
   "cell_type": "markdown",
   "id": "7d983550-8261-4710-b03e-4d2ec2cf10a8",
   "metadata": {
    "jp-MarkdownHeadingCollapsed": true
   },
   "source": [
    "#### Calcul du pourcentage de population à X minutes en Y transport des commerces"
   ]
  },
  {
   "cell_type": "code",
   "execution_count": 15,
   "id": "6d65c92d-6812-4e4e-aa9a-e217bda62708",
   "metadata": {},
   "outputs": [],
   "source": [
    "def compute_results(population_france, mobility_type, shop_type):\n",
    "    liste_population_zone = []\n",
    "    for i in range(6):\n",
    "        value = (i+1)*300\n",
    "        file = xarray.open_dataset(f\"processed/{mobility_type}/{shop_type}/POP_ISO_{value}.tif\")\n",
    "        #l.append(file.to_dataarray()[0][0].to_pandas())\n",
    "        \n",
    "        time = (i+1)*5\n",
    "        population_zone = file.to_dataarray()[0][0].to_pandas().sum().sum()\n",
    "\n",
    "        mobility_fr = ''\n",
    "        if mobility_type == 'cycling-electric':\n",
    "            mobility_fr = 'vélo électrique'\n",
    "        elif mobility_type == 'cycling-regular':\n",
    "            mobility_fr = 'vélo'\n",
    "        elif mobility_type == 'driving-car':\n",
    "            mobility_fr = 'voiture'\n",
    "        shop_fr = ''\n",
    "        if shop_type == 'supermarket':\n",
    "            shop_fr = 'un supermarché'\n",
    "        elif shop_type == 'bakery':\n",
    "            shop_fr = 'une boulangerie'\n",
    "        print(f\"Population à {time} minutes d'{shop_fr} en {mobility_fr} : {(population_zone/population_france)*100:.2f}%\")\n",
    "        liste_population_zone.append(population_zone)\n",
    "    return liste_population_zone"
   ]
  },
  {
   "cell_type": "code",
   "execution_count": 16,
   "id": "025478d8-a89b-4e8c-a238-1b5cb78af7ee",
   "metadata": {},
   "outputs": [
    {
     "data": {
      "text/plain": [
       "np.float64(64436527.70488412)"
      ]
     },
     "execution_count": 16,
     "metadata": {},
     "output_type": "execute_result"
    }
   ],
   "source": [
    "# population métropolitaine officielle 2020 : 65 269 000\n",
    "\n",
    "population_france = pd.DataFrame(pop_fr.read()[0]).sum().sum()\n",
    "population_france"
   ]
  },
  {
   "cell_type": "code",
   "execution_count": 12,
   "id": "c4802de4-2ed0-43f5-a567-076470efc440",
   "metadata": {},
   "outputs": [
    {
     "name": "stdout",
     "output_type": "stream",
     "text": [
      "Population à 5 minutes d'un supermarché en vélo : 59.90%\n",
      "Population à 10 minutes d'un supermarché en vélo : 73.44%\n",
      "Population à 15 minutes d'un supermarché en vélo : 81.06%\n",
      "Population à 20 minutes d'un supermarché en vélo : 87.22%\n",
      "Population à 25 minutes d'un supermarché en vélo : 91.81%\n",
      "Population à 30 minutes d'un supermarché en vélo : 94.99%\n"
     ]
    },
    {
     "data": {
      "text/plain": [
       "[38595677.390701905,\n",
       " 47322559.68002454,\n",
       " 52232233.60880749,\n",
       " 56202746.561863214,\n",
       " 59157783.192537636,\n",
       " 61205473.02606461]"
      ]
     },
     "execution_count": 12,
     "metadata": {},
     "output_type": "execute_result"
    }
   ],
   "source": [
    "results_bike = compute_results(population_france, 'cycling-regular', shop_type)\n",
    "results_bike"
   ]
  },
  {
   "cell_type": "code",
   "execution_count": 71,
   "id": "4ea45d57-0ac7-415f-b085-4863fb52c1d7",
   "metadata": {},
   "outputs": [
    {
     "name": "stdout",
     "output_type": "stream",
     "text": [
      "Population à 5 minutes d'un supermarché en vélo électrique : 64.40%\n",
      "Population à 10 minutes d'un supermarché en vélo électrique : 76.96%\n",
      "Population à 15 minutes d'un supermarché en vélo électrique : 85.21%\n",
      "Population à 20 minutes d'un supermarché en vélo électrique : 91.27%\n",
      "Population à 25 minutes d'un supermarché en vélo électrique : 95.15%\n",
      "Population à 30 minutes d'un supermarché en vélo électrique : 97.43%\n"
     ]
    },
    {
     "data": {
      "text/plain": [
       "[41497416.010314025,\n",
       " 49592311.04281034,\n",
       " 54907390.838095374,\n",
       " 58808488.677603126,\n",
       " 61308254.962460816,\n",
       " 62782093.08215124]"
      ]
     },
     "execution_count": 71,
     "metadata": {},
     "output_type": "execute_result"
    }
   ],
   "source": [
    "results_bikee = compute_results(population_france, 'cycling-electric', shop_type)\n",
    "results_bikee"
   ]
  },
  {
   "cell_type": "code",
   "execution_count": 73,
   "id": "0fb403e5-f78d-45a1-807c-2ac0a2b55d23",
   "metadata": {},
   "outputs": [
    {
     "name": "stdout",
     "output_type": "stream",
     "text": [
      "Population à 5 minutes d'un supermarché en voiture : 72.38%\n",
      "Population à 10 minutes d'un supermarché en voiture : 91.20%\n",
      "Population à 15 minutes d'un supermarché en voiture : 97.90%\n",
      "Population à 20 minutes d'un supermarché en voiture : 99.43%\n",
      "Population à 25 minutes d'un supermarché en voiture : 99.74%\n",
      "Population à 30 minutes d'un supermarché en voiture : 99.84%\n"
     ]
    },
    {
     "data": {
      "text/plain": [
       "[46639252.51856239,\n",
       " 58763972.366006926,\n",
       " 63085556.39632978,\n",
       " 64067666.991531745,\n",
       " 64271213.41913319,\n",
       " 64332412.0438598]"
      ]
     },
     "execution_count": 73,
     "metadata": {},
     "output_type": "execute_result"
    }
   ],
   "source": [
    "results_car = compute_results(population_france, 'driving-car', shop_type)\n",
    "results_car"
   ]
  },
  {
   "cell_type": "code",
   "execution_count": 74,
   "id": "b81229d2-9132-40e9-a5af-5e9f71f18c41",
   "metadata": {},
   "outputs": [
    {
     "data": {
      "image/png": "[encoded data removed]",
      "text/plain": [
       "<Figure size 640x480 with 1 Axes>"
      ]
     },
     "metadata": {},
     "output_type": "display_data"
    }
   ],
   "source": [
    "series_bike = results_bike / population_france * 100\n",
    "series_bikee = results_bikee / population_france * 100\n",
    "series_car = results_car / population_france * 100\n",
    "\n",
    "plt.plot(series_bike, 'o-', label=\"Vélo\")\n",
    "plt.plot(series_bikee, 'o-', label=\"Vélo électrique\")\n",
    "plt.plot(series_car, 'o-', label=\"Voiture\")\n",
    "plt.xticks([0, 1, 2, 3, 4, 5], [5, 10, 15, 20, 25, 30])\n",
    "plt.grid()\n",
    "\n",
    "plt.xlabel(\"Temps de trajet (minutes)\")\n",
    "plt.ylabel(\"Population (%)\")\n",
    "plt.legend()\n",
    "plt.show()"
   ]
  },
  {
   "cell_type": "code",
   "execution_count": 17,
   "id": "823fa2bd-4f40-41b4-b738-c664da366c04",
   "metadata": {},
   "outputs": [
    {
     "name": "stdout",
     "output_type": "stream",
     "text": [
      "Population à 5 minutes d'une boulangerie en vélo : 69.90%\n",
      "Population à 10 minutes d'une boulangerie en vélo : 82.19%\n",
      "Population à 15 minutes d'une boulangerie en vélo : 89.52%\n",
      "Population à 20 minutes d'une boulangerie en vélo : 94.15%\n",
      "Population à 25 minutes d'une boulangerie en vélo : 96.80%\n",
      "Population à 30 minutes d'une boulangerie en vélo : 98.29%\n"
     ]
    },
    {
     "data": {
      "text/plain": [
       "[np.float64(45040666.49345315),\n",
       " np.float64(52961252.629629605),\n",
       " np.float64(57682896.856882095),\n",
       " np.float64(60666006.53897755),\n",
       " np.float64(62376199.0510117),\n",
       " np.float64(63336596.130242184)]"
      ]
     },
     "execution_count": 17,
     "metadata": {},
     "output_type": "execute_result"
    }
   ],
   "source": [
    "results_bike = compute_results(population_france, 'cycling-regular', shop_type)\n",
    "results_bike"
   ]
  },
  {
   "cell_type": "code",
   "execution_count": 18,
   "id": "7680eeef-0521-4246-8180-74070d9d905d",
   "metadata": {},
   "outputs": [
    {
     "name": "stdout",
     "output_type": "stream",
     "text": [
      "Population à 5 minutes d'une boulangerie en vélo électrique : 73.33%\n",
      "Population à 10 minutes d'une boulangerie en vélo électrique : 85.65%\n",
      "Population à 15 minutes d'une boulangerie en vélo électrique : 92.71%\n",
      "Population à 20 minutes d'une boulangerie en vélo électrique : 96.49%\n",
      "Population à 25 minutes d'une boulangerie en vélo électrique : 98.34%\n",
      "Population à 30 minutes d'une boulangerie en vélo électrique : 99.20%\n"
     ]
    },
    {
     "data": {
      "text/plain": [
       "[np.float64(47253600.089173496),\n",
       " np.float64(55189539.51724404),\n",
       " np.float64(59742234.695993796),\n",
       " np.float64(62173869.83757268),\n",
       " np.float64(63369865.79682327),\n",
       " np.float64(63924155.812379844)]"
      ]
     },
     "execution_count": 18,
     "metadata": {},
     "output_type": "execute_result"
    }
   ],
   "source": [
    "results_bikee = compute_results(population_france, 'cycling-electric', shop_type)\n",
    "results_bikee"
   ]
  },
  {
   "cell_type": "code",
   "execution_count": 20,
   "id": "c1455c65-ab8e-4048-87b3-9c241225a196",
   "metadata": {},
   "outputs": [
    {
     "name": "stdout",
     "output_type": "stream",
     "text": [
      "Population à 5 minutes d'une boulangerie en voiture : 83.17%\n",
      "Population à 10 minutes d'une boulangerie en voiture : 96.74%\n",
      "Population à 15 minutes d'une boulangerie en voiture : 99.35%\n",
      "Population à 20 minutes d'une boulangerie en voiture : 99.78%\n",
      "Population à 25 minutes d'une boulangerie en voiture : 99.86%\n",
      "Population à 30 minutes d'une boulangerie en voiture : 99.89%\n"
     ]
    },
    {
     "data": {
      "text/plain": [
       "[np.float64(53592502.90238838),\n",
       " np.float64(62333479.07625993),\n",
       " np.float64(64017791.130888216),\n",
       " np.float64(64295553.14005816),\n",
       " np.float64(64346534.09142055),\n",
       " np.float64(64366132.99062111)]"
      ]
     },
     "execution_count": 20,
     "metadata": {},
     "output_type": "execute_result"
    }
   ],
   "source": [
    "results_car = compute_results(population_france, 'driving-car', shop_type)\n",
    "results_car"
   ]
  },
  {
   "cell_type": "code",
   "execution_count": 21,
   "id": "1c30562d-70a1-437f-8e1c-e4ea7bf8aedd",
   "metadata": {},
   "outputs": [
    {
     "data": {
      "image/png": "[encoded data removed]",
      "text/plain": [
       "<Figure size 640x480 with 1 Axes>"
      ]
     },
     "metadata": {},
     "output_type": "display_data"
    }
   ],
   "source": [
    "series_bike = results_bike / population_france * 100\n",
    "series_bikee = results_bikee / population_france * 100\n",
    "series_car = results_car / population_france * 100\n",
    "\n",
    "plt.plot(series_bike, 'o-', label=\"Vélo\")\n",
    "plt.plot(series_bikee, 'o-', label=\"Vélo électrique\")\n",
    "plt.plot(series_car, 'o-', label=\"Voiture\")\n",
    "plt.xticks([0, 1, 2, 3, 4, 5], [5, 10, 15, 20, 25, 30])\n",
    "plt.grid()\n",
    "\n",
    "plt.xlabel(\"Temps de trajet (minutes)\")\n",
    "plt.ylabel(\"Population (%)\")\n",
    "plt.legend()\n",
    "plt.show()"
   ]
  },
  {
   "cell_type": "markdown",
   "id": "844a1c41-8eeb-47c9-8dce-40d0c2aa1a1e",
   "metadata": {},
   "source": [
    "# Partie 4 : Recoupement des isochrones par commune"
   ]
  },
  {
   "cell_type": "markdown",
   "id": "a507947c-c407-4bbf-9639-213f0d09f0b7",
   "metadata": {},
   "source": [
    "Cette partie permet de pousser plus loin les résultats de la partie précédente : au lieu d'obtenir des données sur la population de toute la France métropolitaine, nous obtenons des données pour chaque commune. Cela nous permet de mieux cerner les différences éventuelles entre les grandes villes, les villes plus petites, et les villages."
   ]
  },
  {
   "cell_type": "code",
   "execution_count": 52,
   "id": "39904501-5f7a-444d-8526-a10dab5baad2",
   "metadata": {},
   "outputs": [],
   "source": [
    "df = geopandas.read_file(\"data_ext/GEO_Contours_Communes_2025.geojson\")\n",
    "\n",
    "# Enlever les territoires hors métropole\n",
    "df = df[~df[\"REGION_COD\"].isin([\"00\", \"01\", \"02\", \"03\", \"04\", \"06\"])]\n",
    "# Enlever les arrondissements de Paris, Lyon, Marseille (les villes entières sont déjà présentes)\n",
    "df = df[~df[\"DCOE_L_LIB\"].str.contains(\"Arrondissement\")]"
   ]
  },
  {
   "cell_type": "code",
   "execution_count": 35,
   "id": "6608b4bd-fc66-4001-8fdf-85f720a56ecb",
   "metadata": {},
   "outputs": [],
   "source": [
    "for i in df.index:\n",
    "    mask = df.loc[i, \"geometry\"]\n",
    "    if mask:\n",
    "        if mask.geom_type == \"GeometryCollection\":\n",
    "            df.loc[i, \"geometry\"] = mask.geoms[0]"
   ]
  },
  {
   "cell_type": "code",
   "execution_count": 36,
   "id": "bf5f2d7c-1750-44f9-ad28-b2b591d01a9f",
   "metadata": {},
   "outputs": [],
   "source": [
    "df = df.reset_index(drop=True)\n",
    "df_communes = df"
   ]
  },
  {
   "cell_type": "code",
   "execution_count": null,
   "id": "2a4051ab-e945-46a0-87a2-aac1f0e9e35f",
   "metadata": {
    "scrolled": true
   },
   "outputs": [],
   "source": [
    "src = rasterio.open(\"processed/population/POP_FRANCE_METRO.tif\")\n",
    "\n",
    "for i in df_communes.index:\n",
    "    mask = df_communes.iloc[i][\"geometry\"]\n",
    "    \n",
    "    if mask: #en cas de None, ex : île des faisans\n",
    "        out_image, out_transform = rasterio.mask.mask(src, [mask], crop=True, all_touched=True)\n",
    "        out_meta = src.meta\n",
    "    \n",
    "        out_meta.update({\"driver\": \"GTiff\",\n",
    "                         \"height\": out_image.shape[1],\n",
    "                         \"width\": out_image.shape[2],\n",
    "                         \"transform\": out_transform})\n",
    "    \n",
    "        with rasterio.open(f\"processed/population/communes/{i}.tif\", \"w\", **out_meta) as dest:\n",
    "            dest.write(out_image)"
   ]
  },
  {
   "cell_type": "code",
   "execution_count": 21,
   "id": "9143ec3c-1298-4b18-8283-44b1e43ae9b9",
   "metadata": {
    "scrolled": true
   },
   "outputs": [
    {
     "name": "stdout",
     "output_type": "stream",
     "text": [
      "Pas de fichier pour la commune 20082\n",
      "Pas de fichier pour la commune 29278\n",
      "Pas de fichier pour la commune 29759\n",
      "Step 34500"
     ]
    }
   ],
   "source": [
    "for i in df_communes.index:\n",
    "    try:\n",
    "        with rasterio.open(f\"processed/population/communes/{i}.tif\") as src:\n",
    "            pop_commune = pd.DataFrame(src.read()[0]).sum().sum()\n",
    "            df.loc[i, \"population\"] = pop_commune\n",
    "    except:\n",
    "        print(f\"Pas de fichier pour la commune {i}\")\n",
    "        continue\n",
    "    if i%500 == 0:\n",
    "        print(f\"Step {i}\", end='\\r')"
   ]
  },
  {
   "cell_type": "code",
   "execution_count": 23,
   "id": "4d448409-8b15-4c41-983f-18f362e6d992",
   "metadata": {},
   "outputs": [
    {
     "data": {
      "text/plain": [
       "np.float64(64436527.70488412)"
      ]
     },
     "execution_count": 23,
     "metadata": {},
     "output_type": "execute_result"
    }
   ],
   "source": [
    "pop_fr = rasterio.open(\"processed/population/POP_FRANCE_METRO.tif\")\n",
    "population_france = pd.DataFrame(pop_fr.read()[0]).sum().sum()\n",
    "population_france"
   ]
  },
  {
   "cell_type": "code",
   "execution_count": 22,
   "id": "49b7cc26-ace8-400d-b6f9-f4040196c0ca",
   "metadata": {},
   "outputs": [
    {
     "data": {
      "text/plain": [
       "np.float64(66468207.87082209)"
      ]
     },
     "execution_count": 22,
     "metadata": {},
     "output_type": "execute_result"
    }
   ],
   "source": [
    "df[\"population\"].sum()"
   ]
  },
  {
   "cell_type": "code",
   "execution_count": 24,
   "id": "0138b5b0-0155-4da6-aa30-7045732717e1",
   "metadata": {
    "scrolled": true
   },
   "outputs": [
    {
     "name": "stdout",
     "output_type": "stream",
     "text": [
      "Pas de fichier pour la commune 20082\n",
      "Pas de fichier pour la commune 29278\n",
      "Pas de fichier pour la commune 29759\n",
      "Step 34500"
     ]
    }
   ],
   "source": [
    "for i in df_communes.index:\n",
    "    try:\n",
    "        with rioxarray.open_rasterio(f\"processed/population/communes/{i}.tif\") as rds:\n",
    "            rds.name = \"data\"\n",
    "            pop_grille_commune = rds.to_dataframe().reset_index()\n",
    "\n",
    "            pad = 0.000416\n",
    "            s = 0\n",
    "            #p_list = []\n",
    "            zone_commune = df.loc[i, \"geometry\"]\n",
    "            \n",
    "            for j in pop_grille_commune.index:\n",
    "                if pop_grille_commune.loc[j, \"data\"] > 0:\n",
    "                    pop_location = pop_grille_commune.loc[j]\n",
    "                    x, y = round(pop_location[\"x\"],6), round(pop_location[\"y\"],6)\n",
    "                    p = geometry.Polygon([(x-pad, y+pad), (x+pad, y+pad), (x+pad, y-pad), (x-pad, y-pad)])\n",
    "                    #p_list.append(p)\n",
    "                    s += pop_location[\"data\"]*(p.intersection(zone_commune).area / p.area)\n",
    "\n",
    "            df_communes.loc[i, \"population_2\"] = s\n",
    "            \n",
    "    except:\n",
    "        print(f\"Pas de fichier pour la commune {i}\")\n",
    "        continue\n",
    "    if i%500 == 0:\n",
    "        print(f\"Step {i}\", end='\\r')\n"
   ]
  },
  {
   "cell_type": "code",
   "execution_count": 30,
   "id": "40cacd7f-fa9c-4767-81ca-e4a9a8c73bde",
   "metadata": {},
   "outputs": [
    {
     "data": {
      "text/plain": [
       "np.float64(66468207.87082209)"
      ]
     },
     "execution_count": 30,
     "metadata": {},
     "output_type": "execute_result"
    }
   ],
   "source": [
    "df_communes[\"population\"].sum()"
   ]
  },
  {
   "cell_type": "code",
   "execution_count": 31,
   "id": "b0337153-58dd-4ff1-a0f4-03156ffb2d46",
   "metadata": {},
   "outputs": [
    {
     "data": {
      "text/plain": [
       "np.float64(64388684.44894641)"
      ]
     },
     "execution_count": 31,
     "metadata": {},
     "output_type": "execute_result"
    }
   ],
   "source": [
    "df_communes[\"population_2\"].sum()"
   ]
  },
  {
   "cell_type": "code",
   "execution_count": 68,
   "id": "ffa5ca90-8047-48d9-a208-123e8ea8cd86",
   "metadata": {
    "scrolled": true
   },
   "outputs": [
    {
     "data": {
      "text/plain": [
       "np.float64(63577271.60766534)"
      ]
     },
     "execution_count": 68,
     "metadata": {},
     "output_type": "execute_result"
    }
   ],
   "source": [
    "df[\"population_2\"].sum()"
   ]
  },
  {
   "cell_type": "code",
   "execution_count": 33,
   "id": "98a5993d-0013-473a-8c08-3e98346a06e6",
   "metadata": {},
   "outputs": [],
   "source": [
    "df_communes.to_csv(f\"processed/df_pop.csv\", index=False)"
   ]
  },
  {
   "cell_type": "markdown",
   "id": "5549900a-e54d-4352-a468-202d094ea7cf",
   "metadata": {},
   "source": [
    "#### Isochrones par commune"
   ]
  },
  {
   "cell_type": "code",
   "execution_count": 6,
   "id": "b1f3bd59-75ef-4d56-a0b9-2f24156e0c3a",
   "metadata": {},
   "outputs": [],
   "source": [
    "shops = ('bakery', 'supermarket')\n",
    "mobilities = ('driving-car', 'cycling-regular', 'cycling-electric')\n",
    "\n",
    "liste = []\n",
    "for shop in shops:\n",
    "    for mobility in mobilities:\n",
    "        rdf = pd.read_csv(f\"processed/{mobility}/{shop}/iso_merged.csv\")\n",
    "        rdf[\"type\"] = f\"{shop}_{mobility}\"\n",
    "        liste.append(rdf)"
   ]
  },
  {
   "cell_type": "code",
   "execution_count": 7,
   "id": "61eb0b48-73fc-4d6b-a492-7f8c642e063c",
   "metadata": {
    "scrolled": true
   },
   "outputs": [],
   "source": [
    "rdf = geopandas.GeoDataFrame(pd.concat(liste))\n",
    "rdf['geometry'] = rdf['geometry'].apply(wkt.loads)\n",
    "rdf = rdf.drop(columns=[\"area\"]).reset_index()\n",
    "rdf_isochrones = rdf.set_geometry(\"geometry\")\n",
    "rdf_isochrones = rdf_isochrones.set_crs('epsg:4326')"
   ]
  },
  {
   "cell_type": "code",
   "execution_count": 8,
   "id": "61b456f0-43aa-4c51-9d70-6b7dfabe170e",
   "metadata": {},
   "outputs": [
    {
     "data": {
      "text/plain": [
       "36"
      ]
     },
     "execution_count": 8,
     "metadata": {},
     "output_type": "execute_result"
    }
   ],
   "source": [
    "len(rdf_isochrones)"
   ]
  },
  {
   "cell_type": "code",
   "execution_count": 11,
   "id": "fb13ba2c-dc57-40f7-bce9-3a676ce987d4",
   "metadata": {
    "scrolled": true
   },
   "outputs": [],
   "source": [
    "df = pd.read_csv(f\"processed/data/pop_iso_communes.csv\", engine=\"python\")\n",
    "df = df.fillna({\"geometry\": \"POLYGON EMPTY\"})\n",
    "df['geometry'] = df['geometry'].apply(wkt.loads)\n",
    "gdf_communes = geopandas.GeoDataFrame(df, crs='epsg:4326')"
   ]
  },
  {
   "cell_type": "code",
   "execution_count": 5,
   "id": "5e58864f-9809-4767-bd0e-277e9aea8909",
   "metadata": {
    "scrolled": true
   },
   "outputs": [
    {
     "name": "stdout",
     "output_type": "stream",
     "text": [
      "Saving data...\n",
      "Data saved : Step 34500\n",
      "Data saved. Total steps : 34745\n"
     ]
    }
   ],
   "source": [
    "# Selon les données qui ont besoin d'être calculées, cette partie peut être très lente à calculer.\n",
    "\n",
    "pad = 0.000416\n",
    "size_rdf = len(rdf_isochrones)\n",
    "\n",
    "for i in gdf_communes.index:\n",
    "    try:\n",
    "        with rioxarray.open_rasterio(f\"processed/population/communes/{i}.tif\") as rds:\n",
    "            rds.name = \"data\"\n",
    "            pop_grille_commune = rds.to_dataframe().reset_index()\n",
    "        \n",
    "            zone_commune = gdf_communes.loc[i, \"geometry\"]\n",
    "            \n",
    "            liste_iso = []\n",
    "            s = [0] * size_rdf\n",
    "\n",
    "            list_p = []\n",
    "            for iso_i in range(size_rdf):\n",
    "                isochrone = zone_commune.intersection(rdf_isochrones.loc[iso_i, \"geometry\"])\n",
    "                liste_iso.append(isochrone)\n",
    "\n",
    "            for j in pop_grille_commune.index:\n",
    "                if pop_grille_commune.loc[j, \"data\"] > 0:\n",
    "                    \n",
    "                    pop_location = pop_grille_commune.loc[j]\n",
    "                    x, y = round(pop_location[\"x\"],6), round(pop_location[\"y\"],6)\n",
    "                    p = geometry.Polygon([(x-pad, y+pad), (x+pad, y+pad), (x+pad, y-pad), (x-pad, y-pad)])\n",
    "\n",
    "                    list_p.append(p)\n",
    "                    \n",
    "                    for iso_i in range(size_rdf):\n",
    "                        isochrone = liste_iso[iso_i]\n",
    "                        s[iso_i] += pop_location[\"data\"]*(p.intersection(isochrone).area / p.area)\n",
    "\n",
    "            #print(s)\n",
    "\n",
    "            for iso_i in range(size_rdf):\n",
    "                iso = rdf_isochrones.loc[iso_i]\n",
    "                label = f'{iso[\"type\"]}_{int(iso[\"value\"])}'\n",
    "                gdf_communes.loc[i, label] = s[iso_i]\n",
    "\n",
    "    except:\n",
    "        print(f\"Pas de fichier pour la commune {i}\")\n",
    "        continue\n",
    "    if i%50 == 0:\n",
    "        print(f\"Step {i}\", end='\\r')\n",
    "    if i%500 == 0 and i > 0:\n",
    "        print(\"Saving data...\")\n",
    "        gdf_communes.to_csv(f\"processed/data/df_pop_intermediaire.csv\", index=False)\n",
    "        print(f\"Data saved : Step {i}\")\n",
    "\n",
    "gdf_communes.to_csv(f\"processed/data/pop_iso_communes_final.csv\", index=False)\n",
    "print(f\"Data saved. Total steps : {i}\")"
   ]
  },
  {
   "cell_type": "markdown",
   "id": "c67de697-bd27-4d81-92d3-7b2e859c8e26",
   "metadata": {},
   "source": []
  },
  {
   "cell_type": "code",
   "execution_count": 23,
   "id": "cffd1f3f-1d04-4497-b9e0-34e7c9fc1f29",
   "metadata": {
    "scrolled": true
   },
   "outputs": [
    {
     "data": {
      "text/html": [
       "<div>\n",
       "<style scoped>\n",
       "    .dataframe tbody tr th:only-of-type {\n",
       "        vertical-align: middle;\n",
       "    }\n",
       "\n",
       "    .dataframe tbody tr th {\n",
       "        vertical-align: top;\n",
       "    }\n",
       "\n",
       "    .dataframe thead th {\n",
       "        text-align: right;\n",
       "    }\n",
       "</style>\n",
       "<table border=\"1\" class=\"dataframe\">\n",
       "  <thead>\n",
       "    <tr style=\"text-align: right;\">\n",
       "      <th></th>\n",
       "      <th>DCOE_C_COD</th>\n",
       "      <th>DDEP_C_COD</th>\n",
       "      <th>DCOE_L_LIB</th>\n",
       "      <th>REGION</th>\n",
       "      <th>REGION_COD</th>\n",
       "      <th>DEPARTEMEN</th>\n",
       "      <th>EPCI</th>\n",
       "      <th>EPCI_CODE</th>\n",
       "      <th>geometry</th>\n",
       "      <th>population</th>\n",
       "      <th>...</th>\n",
       "      <th>supermarket_cycling-regular_1200</th>\n",
       "      <th>supermarket_cycling-regular_900</th>\n",
       "      <th>supermarket_cycling-regular_600</th>\n",
       "      <th>supermarket_cycling-regular_300</th>\n",
       "      <th>supermarket_cycling-electric_1800</th>\n",
       "      <th>supermarket_cycling-electric_1500</th>\n",
       "      <th>supermarket_cycling-electric_1200</th>\n",
       "      <th>supermarket_cycling-electric_900</th>\n",
       "      <th>supermarket_cycling-electric_600</th>\n",
       "      <th>supermarket_cycling-electric_300</th>\n",
       "    </tr>\n",
       "  </thead>\n",
       "  <tbody>\n",
       "    <tr>\n",
       "      <th>0</th>\n",
       "      <td>01001</td>\n",
       "      <td>01</td>\n",
       "      <td>L'Abergement-Clémenciat</td>\n",
       "      <td>Auvergne-Rhône-Alpes</td>\n",
       "      <td>84</td>\n",
       "      <td>Ain</td>\n",
       "      <td>Communauté de communes de la Dombes</td>\n",
       "      <td>200069193</td>\n",
       "      <td>POLYGON ((4.9262712 46.1200548, 4.9262712 46.1...</td>\n",
       "      <td>806.797906</td>\n",
       "      <td>...</td>\n",
       "      <td>650.694039</td>\n",
       "      <td>364.257279</td>\n",
       "      <td>246.151379</td>\n",
       "      <td>0.000000</td>\n",
       "      <td>806.797906</td>\n",
       "      <td>806.797906</td>\n",
       "      <td>804.871527</td>\n",
       "      <td>563.784078</td>\n",
       "      <td>271.077465</td>\n",
       "      <td>17.545089</td>\n",
       "    </tr>\n",
       "    <tr>\n",
       "      <th>1</th>\n",
       "      <td>01002</td>\n",
       "      <td>01</td>\n",
       "      <td>L'Abergement-de-Varey</td>\n",
       "      <td>Auvergne-Rhône-Alpes</td>\n",
       "      <td>84</td>\n",
       "      <td>Ain</td>\n",
       "      <td>Communauté de communes de la Plaine de l'Ain</td>\n",
       "      <td>240100883</td>\n",
       "      <td>POLYGON ((5.4300913 45.9827604, 5.4300913 45.9...</td>\n",
       "      <td>245.738609</td>\n",
       "      <td>...</td>\n",
       "      <td>245.078533</td>\n",
       "      <td>177.298116</td>\n",
       "      <td>7.291711</td>\n",
       "      <td>0.000000</td>\n",
       "      <td>245.738609</td>\n",
       "      <td>245.738500</td>\n",
       "      <td>245.738475</td>\n",
       "      <td>228.487033</td>\n",
       "      <td>60.440799</td>\n",
       "      <td>0.000000</td>\n",
       "    </tr>\n",
       "    <tr>\n",
       "      <th>2</th>\n",
       "      <td>01004</td>\n",
       "      <td>01</td>\n",
       "      <td>Ambérieu-en-Bugey</td>\n",
       "      <td>Auvergne-Rhône-Alpes</td>\n",
       "      <td>84</td>\n",
       "      <td>Ain</td>\n",
       "      <td>Communauté de communes de la Plaine de l'Ain</td>\n",
       "      <td>240100883</td>\n",
       "      <td>POLYGON ((5.3861906 45.9309262, 5.3861906 45.9...</td>\n",
       "      <td>14834.382482</td>\n",
       "      <td>...</td>\n",
       "      <td>14827.268797</td>\n",
       "      <td>14788.158862</td>\n",
       "      <td>14402.608223</td>\n",
       "      <td>12734.199458</td>\n",
       "      <td>14834.382482</td>\n",
       "      <td>14834.382482</td>\n",
       "      <td>14834.382482</td>\n",
       "      <td>14821.821810</td>\n",
       "      <td>14510.695378</td>\n",
       "      <td>13484.296978</td>\n",
       "    </tr>\n",
       "    <tr>\n",
       "      <th>3</th>\n",
       "      <td>01005</td>\n",
       "      <td>01</td>\n",
       "      <td>Ambérieux-en-Dombes</td>\n",
       "      <td>Auvergne-Rhône-Alpes</td>\n",
       "      <td>84</td>\n",
       "      <td>Ain</td>\n",
       "      <td>Communauté de communes Dombes Saône Vallée</td>\n",
       "      <td>200042497</td>\n",
       "      <td>POLYGON ((4.8955847 45.9799139, 4.8955847 45.9...</td>\n",
       "      <td>1704.616684</td>\n",
       "      <td>...</td>\n",
       "      <td>0.000000</td>\n",
       "      <td>0.000000</td>\n",
       "      <td>0.000000</td>\n",
       "      <td>0.000000</td>\n",
       "      <td>1700.760596</td>\n",
       "      <td>694.047609</td>\n",
       "      <td>27.076740</td>\n",
       "      <td>0.000000</td>\n",
       "      <td>0.000000</td>\n",
       "      <td>0.000000</td>\n",
       "    </tr>\n",
       "    <tr>\n",
       "      <th>4</th>\n",
       "      <td>01006</td>\n",
       "      <td>01</td>\n",
       "      <td>Ambléon</td>\n",
       "      <td>Auvergne-Rhône-Alpes</td>\n",
       "      <td>84</td>\n",
       "      <td>Ain</td>\n",
       "      <td>Communauté de communes Bugey Sud</td>\n",
       "      <td>200040350</td>\n",
       "      <td>POLYGON ((5.6148568 45.7346363, 5.6148568 45.7...</td>\n",
       "      <td>160.382769</td>\n",
       "      <td>...</td>\n",
       "      <td>0.000000</td>\n",
       "      <td>0.000000</td>\n",
       "      <td>0.000000</td>\n",
       "      <td>0.000000</td>\n",
       "      <td>160.382769</td>\n",
       "      <td>0.000000</td>\n",
       "      <td>0.000000</td>\n",
       "      <td>0.000000</td>\n",
       "      <td>0.000000</td>\n",
       "      <td>0.000000</td>\n",
       "    </tr>\n",
       "    <tr>\n",
       "      <th>...</th>\n",
       "      <td>...</td>\n",
       "      <td>...</td>\n",
       "      <td>...</td>\n",
       "      <td>...</td>\n",
       "      <td>...</td>\n",
       "      <td>...</td>\n",
       "      <td>...</td>\n",
       "      <td>...</td>\n",
       "      <td>...</td>\n",
       "      <td>...</td>\n",
       "      <td>...</td>\n",
       "      <td>...</td>\n",
       "      <td>...</td>\n",
       "      <td>...</td>\n",
       "      <td>...</td>\n",
       "      <td>...</td>\n",
       "      <td>...</td>\n",
       "      <td>...</td>\n",
       "      <td>...</td>\n",
       "      <td>...</td>\n",
       "      <td>...</td>\n",
       "    </tr>\n",
       "    <tr>\n",
       "      <th>34741</th>\n",
       "      <td>95676</td>\n",
       "      <td>95</td>\n",
       "      <td>Villers-en-Arthies</td>\n",
       "      <td>Île-de-France</td>\n",
       "      <td>11</td>\n",
       "      <td>Val-d'Oise</td>\n",
       "      <td>Communauté de communes du Vexin-Val de Seine</td>\n",
       "      <td>249500513</td>\n",
       "      <td>POLYGON ((1.7408721 49.0726701, 1.7408721 49.0...</td>\n",
       "      <td>479.192759</td>\n",
       "      <td>...</td>\n",
       "      <td>431.591744</td>\n",
       "      <td>309.003303</td>\n",
       "      <td>0.000000</td>\n",
       "      <td>0.000000</td>\n",
       "      <td>479.192759</td>\n",
       "      <td>479.192759</td>\n",
       "      <td>478.708538</td>\n",
       "      <td>399.582449</td>\n",
       "      <td>4.102362</td>\n",
       "      <td>0.000000</td>\n",
       "    </tr>\n",
       "    <tr>\n",
       "      <th>34742</th>\n",
       "      <td>95678</td>\n",
       "      <td>95</td>\n",
       "      <td>Villiers-Adam</td>\n",
       "      <td>Île-de-France</td>\n",
       "      <td>11</td>\n",
       "      <td>Val-d'Oise</td>\n",
       "      <td>Communauté de communes de la Vallée de l'Oise ...</td>\n",
       "      <td>249500455</td>\n",
       "      <td>POLYGON ((2.2348647 49.0493664, 2.2348647 49.0...</td>\n",
       "      <td>851.026416</td>\n",
       "      <td>...</td>\n",
       "      <td>851.026416</td>\n",
       "      <td>849.902526</td>\n",
       "      <td>502.046687</td>\n",
       "      <td>0.000000</td>\n",
       "      <td>851.026416</td>\n",
       "      <td>851.026416</td>\n",
       "      <td>851.026416</td>\n",
       "      <td>851.026416</td>\n",
       "      <td>842.193172</td>\n",
       "      <td>47.343419</td>\n",
       "    </tr>\n",
       "    <tr>\n",
       "      <th>34743</th>\n",
       "      <td>95680</td>\n",
       "      <td>95</td>\n",
       "      <td>Villiers-le-Bel</td>\n",
       "      <td>Île-de-France</td>\n",
       "      <td>11</td>\n",
       "      <td>Val-d'Oise</td>\n",
       "      <td>Communauté d'agglomération Roissy Pays de France</td>\n",
       "      <td>200055655</td>\n",
       "      <td>POLYGON ((2.4081407 48.9919701, 2.4081407 48.9...</td>\n",
       "      <td>26621.613159</td>\n",
       "      <td>...</td>\n",
       "      <td>26621.613159</td>\n",
       "      <td>26621.613159</td>\n",
       "      <td>26621.469500</td>\n",
       "      <td>26267.173225</td>\n",
       "      <td>26621.613159</td>\n",
       "      <td>26621.613159</td>\n",
       "      <td>26621.613159</td>\n",
       "      <td>26621.613159</td>\n",
       "      <td>26621.613159</td>\n",
       "      <td>26585.444324</td>\n",
       "    </tr>\n",
       "    <tr>\n",
       "      <th>34744</th>\n",
       "      <td>95682</td>\n",
       "      <td>95</td>\n",
       "      <td>Villiers-le-Sec</td>\n",
       "      <td>Île-de-France</td>\n",
       "      <td>11</td>\n",
       "      <td>Val-d'Oise</td>\n",
       "      <td>Communauté de communes Carnelle Pays-de-France</td>\n",
       "      <td>200073013</td>\n",
       "      <td>POLYGON ((2.3751815 49.0635242, 2.3751815 49.0...</td>\n",
       "      <td>175.596179</td>\n",
       "      <td>...</td>\n",
       "      <td>18.343992</td>\n",
       "      <td>0.181159</td>\n",
       "      <td>0.000000</td>\n",
       "      <td>0.000000</td>\n",
       "      <td>175.596179</td>\n",
       "      <td>175.596179</td>\n",
       "      <td>172.041022</td>\n",
       "      <td>4.367424</td>\n",
       "      <td>0.000000</td>\n",
       "      <td>0.000000</td>\n",
       "    </tr>\n",
       "    <tr>\n",
       "      <th>34745</th>\n",
       "      <td>95690</td>\n",
       "      <td>95</td>\n",
       "      <td>Wy-dit-Joli-Village</td>\n",
       "      <td>Île-de-France</td>\n",
       "      <td>11</td>\n",
       "      <td>Val-d'Oise</td>\n",
       "      <td>Communauté de communes du Vexin-Val de Seine</td>\n",
       "      <td>249500513</td>\n",
       "      <td>POLYGON ((1.8153964 49.0764128, 1.8153964 49.0...</td>\n",
       "      <td>347.751208</td>\n",
       "      <td>...</td>\n",
       "      <td>0.000000</td>\n",
       "      <td>0.000000</td>\n",
       "      <td>0.000000</td>\n",
       "      <td>0.000000</td>\n",
       "      <td>347.751208</td>\n",
       "      <td>343.030168</td>\n",
       "      <td>253.404013</td>\n",
       "      <td>0.000000</td>\n",
       "      <td>0.000000</td>\n",
       "      <td>0.000000</td>\n",
       "    </tr>\n",
       "  </tbody>\n",
       "</table>\n",
       "<p>34746 rows × 46 columns</p>\n",
       "</div>"
      ],
      "text/plain": [
       "      DCOE_C_COD DDEP_C_COD               DCOE_L_LIB                REGION  \\\n",
       "0          01001         01  L'Abergement-Clémenciat  Auvergne-Rhône-Alpes   \n",
       "1          01002         01    L'Abergement-de-Varey  Auvergne-Rhône-Alpes   \n",
       "2          01004         01        Ambérieu-en-Bugey  Auvergne-Rhône-Alpes   \n",
       "3          01005         01      Ambérieux-en-Dombes  Auvergne-Rhône-Alpes   \n",
       "4          01006         01                  Ambléon  Auvergne-Rhône-Alpes   \n",
       "...          ...        ...                      ...                   ...   \n",
       "34741      95676         95       Villers-en-Arthies         Île-de-France   \n",
       "34742      95678         95            Villiers-Adam         Île-de-France   \n",
       "34743      95680         95          Villiers-le-Bel         Île-de-France   \n",
       "34744      95682         95          Villiers-le-Sec         Île-de-France   \n",
       "34745      95690         95      Wy-dit-Joli-Village         Île-de-France   \n",
       "\n",
       "       REGION_COD  DEPARTEMEN  \\\n",
       "0              84         Ain   \n",
       "1              84         Ain   \n",
       "2              84         Ain   \n",
       "3              84         Ain   \n",
       "4              84         Ain   \n",
       "...           ...         ...   \n",
       "34741          11  Val-d'Oise   \n",
       "34742          11  Val-d'Oise   \n",
       "34743          11  Val-d'Oise   \n",
       "34744          11  Val-d'Oise   \n",
       "34745          11  Val-d'Oise   \n",
       "\n",
       "                                                    EPCI  EPCI_CODE  \\\n",
       "0                    Communauté de communes de la Dombes  200069193   \n",
       "1           Communauté de communes de la Plaine de l'Ain  240100883   \n",
       "2           Communauté de communes de la Plaine de l'Ain  240100883   \n",
       "3             Communauté de communes Dombes Saône Vallée  200042497   \n",
       "4                       Communauté de communes Bugey Sud  200040350   \n",
       "...                                                  ...        ...   \n",
       "34741       Communauté de communes du Vexin-Val de Seine  249500513   \n",
       "34742  Communauté de communes de la Vallée de l'Oise ...  249500455   \n",
       "34743   Communauté d'agglomération Roissy Pays de France  200055655   \n",
       "34744     Communauté de communes Carnelle Pays-de-France  200073013   \n",
       "34745       Communauté de communes du Vexin-Val de Seine  249500513   \n",
       "\n",
       "                                                geometry    population  ...  \\\n",
       "0      POLYGON ((4.9262712 46.1200548, 4.9262712 46.1...    806.797906  ...   \n",
       "1      POLYGON ((5.4300913 45.9827604, 5.4300913 45.9...    245.738609  ...   \n",
       "2      POLYGON ((5.3861906 45.9309262, 5.3861906 45.9...  14834.382482  ...   \n",
       "3      POLYGON ((4.8955847 45.9799139, 4.8955847 45.9...   1704.616684  ...   \n",
       "4      POLYGON ((5.6148568 45.7346363, 5.6148568 45.7...    160.382769  ...   \n",
       "...                                                  ...           ...  ...   \n",
       "34741  POLYGON ((1.7408721 49.0726701, 1.7408721 49.0...    479.192759  ...   \n",
       "34742  POLYGON ((2.2348647 49.0493664, 2.2348647 49.0...    851.026416  ...   \n",
       "34743  POLYGON ((2.4081407 48.9919701, 2.4081407 48.9...  26621.613159  ...   \n",
       "34744  POLYGON ((2.3751815 49.0635242, 2.3751815 49.0...    175.596179  ...   \n",
       "34745  POLYGON ((1.8153964 49.0764128, 1.8153964 49.0...    347.751208  ...   \n",
       "\n",
       "       supermarket_cycling-regular_1200  supermarket_cycling-regular_900  \\\n",
       "0                            650.694039                       364.257279   \n",
       "1                            245.078533                       177.298116   \n",
       "2                          14827.268797                     14788.158862   \n",
       "3                              0.000000                         0.000000   \n",
       "4                              0.000000                         0.000000   \n",
       "...                                 ...                              ...   \n",
       "34741                        431.591744                       309.003303   \n",
       "34742                        851.026416                       849.902526   \n",
       "34743                      26621.613159                     26621.613159   \n",
       "34744                         18.343992                         0.181159   \n",
       "34745                          0.000000                         0.000000   \n",
       "\n",
       "       supermarket_cycling-regular_600  supermarket_cycling-regular_300  \\\n",
       "0                           246.151379                         0.000000   \n",
       "1                             7.291711                         0.000000   \n",
       "2                         14402.608223                     12734.199458   \n",
       "3                             0.000000                         0.000000   \n",
       "4                             0.000000                         0.000000   \n",
       "...                                ...                              ...   \n",
       "34741                         0.000000                         0.000000   \n",
       "34742                       502.046687                         0.000000   \n",
       "34743                     26621.469500                     26267.173225   \n",
       "34744                         0.000000                         0.000000   \n",
       "34745                         0.000000                         0.000000   \n",
       "\n",
       "       supermarket_cycling-electric_1800  supermarket_cycling-electric_1500  \\\n",
       "0                             806.797906                         806.797906   \n",
       "1                             245.738609                         245.738500   \n",
       "2                           14834.382482                       14834.382482   \n",
       "3                            1700.760596                         694.047609   \n",
       "4                             160.382769                           0.000000   \n",
       "...                                  ...                                ...   \n",
       "34741                         479.192759                         479.192759   \n",
       "34742                         851.026416                         851.026416   \n",
       "34743                       26621.613159                       26621.613159   \n",
       "34744                         175.596179                         175.596179   \n",
       "34745                         347.751208                         343.030168   \n",
       "\n",
       "       supermarket_cycling-electric_1200  supermarket_cycling-electric_900  \\\n",
       "0                             804.871527                        563.784078   \n",
       "1                             245.738475                        228.487033   \n",
       "2                           14834.382482                      14821.821810   \n",
       "3                              27.076740                          0.000000   \n",
       "4                               0.000000                          0.000000   \n",
       "...                                  ...                               ...   \n",
       "34741                         478.708538                        399.582449   \n",
       "34742                         851.026416                        851.026416   \n",
       "34743                       26621.613159                      26621.613159   \n",
       "34744                         172.041022                          4.367424   \n",
       "34745                         253.404013                          0.000000   \n",
       "\n",
       "       supermarket_cycling-electric_600  supermarket_cycling-electric_300  \n",
       "0                            271.077465                         17.545089  \n",
       "1                             60.440799                          0.000000  \n",
       "2                          14510.695378                      13484.296978  \n",
       "3                              0.000000                          0.000000  \n",
       "4                              0.000000                          0.000000  \n",
       "...                                 ...                               ...  \n",
       "34741                          4.102362                          0.000000  \n",
       "34742                        842.193172                         47.343419  \n",
       "34743                      26621.613159                      26585.444324  \n",
       "34744                          0.000000                          0.000000  \n",
       "34745                          0.000000                          0.000000  \n",
       "\n",
       "[34746 rows x 46 columns]"
      ]
     },
     "execution_count": 23,
     "metadata": {},
     "output_type": "execute_result"
    }
   ],
   "source": [
    "df = pd.read_csv(f\"processed/data/pop_iso_communes_final.csv\", engine=\"python\")\n",
    "df"
   ]
  },
  {
   "cell_type": "code",
   "execution_count": 22,
   "id": "a4a18016-a279-45a7-960a-e31816605fff",
   "metadata": {},
   "outputs": [],
   "source": [
    "df.to_csv(f\"processed/data/pop_iso_communes.csv\", index=False)"
   ]
  },
  {
   "cell_type": "markdown",
   "id": "2ef12efa-1998-40ac-be96-169b7ba830e2",
   "metadata": {},
   "source": [
    "#### Visualisation"
   ]
  },
  {
   "cell_type": "code",
   "execution_count": null,
   "id": "f31d40b7-03f5-4483-a610-13d793b4e20f",
   "metadata": {},
   "outputs": [],
   "source": []
  }
 ],
 "metadata": {
  "kernelspec": {
   "display_name": "Python 3 (ipykernel)",
   "language": "python",
   "name": "python3"
  },
  "language_info": {
   "codemirror_mode": {
    "name": "ipython",
    "version": 3
   },
   "file_extension": ".py",
   "mimetype": "text/x-python",
   "name": "python",
   "nbconvert_exporter": "python",
   "pygments_lexer": "ipython3",
   "version": "3.9.23"
  }
 },
 "nbformat": 4,
 "nbformat_minor": 5
}
